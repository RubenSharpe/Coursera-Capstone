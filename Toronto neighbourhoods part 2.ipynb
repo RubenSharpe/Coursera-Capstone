{
 "cells": [
  {
   "cell_type": "markdown",
   "id": "acting-financing",
   "metadata": {},
   "source": [
    "# Toronto Neighbourhoods"
   ]
  },
  {
   "cell_type": "markdown",
   "id": "undefined-ensemble",
   "metadata": {},
   "source": [
    "## Part 2: Location Data"
   ]
  },
  {
   "cell_type": "markdown",
   "id": "tamil-crime",
   "metadata": {},
   "source": [
    "In part 1, the list of Toronto neighbourhoods has been scraped from the Wikipedia page. This list has been saved as a '.csv' file, which can now be loaded for further enrichment with location data."
   ]
  },
  {
   "cell_type": "code",
   "execution_count": 1,
   "id": "clinical-silver",
   "metadata": {},
   "outputs": [],
   "source": [
    "import pandas as pd\n",
    "import numpy as np\n",
    "\n",
    "import geocoder"
   ]
  },
  {
   "cell_type": "code",
   "execution_count": null,
   "id": "printable-preserve",
   "metadata": {},
   "outputs": [],
   "source": [
    "path = '~/Documents/Projects/Coursera-Capstone/Neighbourhoods.csv'\n",
    "toronto_nbhs_all = pd.read_csv(path)\n",
    "\n",
    "# Make sure that the dataframe does not already contain the geospatial data.\n",
    "toronto_nbhs = toronto_nbhs_all[['Postal Code', 'Borough', 'Neighbourhood']]"
   ]
  },
  {
   "cell_type": "markdown",
   "id": "aerial-cookbook",
   "metadata": {},
   "source": [
    "### Using Geocoder"
   ]
  },
  {
   "cell_type": "markdown",
   "id": "electronic-leather",
   "metadata": {},
   "source": [
    "First an attempt will be made to obtain locatin data using geocoder. In the assignment it has been warned that possibly several attempts need to be made in order to obtain the geodata for a given address. Since 103 addresses need to be enriched, the number of required attempts may exceed the maximum daily allotment."
   ]
  },
  {
   "cell_type": "code",
   "execution_count": null,
   "id": "rapid-privacy",
   "metadata": {},
   "outputs": [
    {
     "name": "stderr",
     "output_type": "stream",
     "text": [
      "Status code Unknown from https://maps.googleapis.com/maps/api/geocode/json: ERROR - HTTPSConnectionPool(host='maps.googleapis.com', port=443): Read timed out. (read timeout=5.0)\n",
      "Status code Unknown from https://maps.googleapis.com/maps/api/geocode/json: ERROR - HTTPSConnectionPool(host='maps.googleapis.com', port=443): Read timed out. (read timeout=5.0)\n"
     ]
    }
   ],
   "source": [
    "# Obtain location data using geocoder, looping until succesful or max allowed attempts is reached.\n",
    "\n",
    "# define the dataframe columns\n",
    "column_names = ['Postal Code', 'Latitude', 'Longitude'] \n",
    "\n",
    "# instantiate the dataframe\n",
    "neighbourhoods = pd.DataFrame(columns=column_names)\n",
    "\n",
    "\n",
    "for postal_code in toronto_nbhs['Postal Code']:\n",
    "    neighbourhood_postal_code = postal_code\n",
    "    lat_lng_coords = None\n",
    "    \n",
    "    while lat_lng_coords is None:\n",
    "        g = geocoder.google('{}, Toronto, Ontario'.format(postal_code))\n",
    "        lat_lng_coords = g.latlng\n",
    "    \n",
    "    neighbourhood_lat = lat_lng_coords[0]\n",
    "    neighbourhood_lon = lat_lng_coords[1]\n",
    "\n",
    "    neighbourhoods = neighbourhoods.append({'Postal Code': neighbourhood_postal_code,\n",
    "                                            'Latitude': neighbourhood_lat,\n",
    "                                            'Longitude': neighbourhood_lon}, ignore_index=True)"
   ]
  },
  {
   "cell_type": "code",
   "execution_count": null,
   "id": "metric-undergraduate",
   "metadata": {},
   "outputs": [],
   "source": [
    "neighbourhoods.head()"
   ]
  },
  {
   "cell_type": "markdown",
   "id": "damaged-silver",
   "metadata": {},
   "source": [
    "### Location data from a '.csv' file"
   ]
  },
  {
   "cell_type": "markdown",
   "id": "celtic-forth",
   "metadata": {},
   "source": [
    "Obtaining location data using Geocoder was found to be too unreliable, since the maximum number of retries was exceeded before resolving the coordinates for all the Toronto neighbourhoods.\n",
    "\n",
    "As per the instructions, geographical coordinates will now be extracted from a [csv file](https://cocl.us/Geospatial_data)."
   ]
  },
  {
   "cell_type": "code",
   "execution_count": null,
   "id": "eligible-affair",
   "metadata": {},
   "outputs": [],
   "source": [
    "path = '~/Documents/Projects/Coursera-Capstone/geodata/Geospatial_Coordinates.csv'\n",
    "gsd = pd.read_csv(path)\n",
    "\n",
    "gsd.sort_values(by=['Postal Code'], inplace=True) # Put the list in alphabetical order of the postal codes\n",
    "gsd.reset_index(inplace=True, drop=True)\n",
    "print(gsd.shape)\n",
    "gsd.head()"
   ]
  },
  {
   "cell_type": "code",
   "execution_count": null,
   "id": "confused-brighton",
   "metadata": {},
   "outputs": [],
   "source": [
    "# Put the neighbourhood data in the same order as the geospatial coordinates\n",
    "toronto_nbhs.sort_values(by=['Postal Code'], inplace=True)\n",
    "toronto_nbhs.reset_index(inplace=True, drop=True)\n",
    "print(toronto_nbhs.shape)\n",
    "toronto_nbhs.head()"
   ]
  },
  {
   "cell_type": "markdown",
   "id": "aging-walter",
   "metadata": {},
   "source": [
    "Now that both dataframes are in the same order, each row refers to the same neighhourhood for both dataframes. The neighbourhoods dataframe (toronto_nbhs) can therefore be simply joined with the 'Latitude' and 'Longitude' columns of the geospatial data dataframe (gsd)."
   ]
  },
  {
   "cell_type": "code",
   "execution_count": null,
   "id": "allied-interview",
   "metadata": {},
   "outputs": [],
   "source": [
    "toronto_nbhs = pd.concat([toronto_nbhs, gsd[['Latitude', 'Longitude']]], axis=1)\n",
    "toronto_nbhs.head()"
   ]
  },
  {
   "cell_type": "code",
   "execution_count": null,
   "id": "close-repair",
   "metadata": {},
   "outputs": [],
   "source": [
    "toronto_nbhs.describe(include='all')"
   ]
  },
  {
   "cell_type": "markdown",
   "id": "unsigned-zimbabwe",
   "metadata": {},
   "source": [
    "This concludes the second part of the assignment."
   ]
  },
  {
   "cell_type": "code",
   "execution_count": null,
   "id": "rubber-secretariat",
   "metadata": {},
   "outputs": [],
   "source": [
    "# Save the cleaned dataframe as a '.csv'\n",
    "path = '~/Documents/Projects/Coursera-Capstone/Neighbourhoods.csv'\n",
    "toronto_nbhs.to_csv(path)"
   ]
  }
 ],
 "metadata": {
  "kernelspec": {
   "display_name": "Python 3",
   "language": "python",
   "name": "python3"
  },
  "language_info": {
   "codemirror_mode": {
    "name": "ipython",
    "version": 3
   },
   "file_extension": ".py",
   "mimetype": "text/x-python",
   "name": "python",
   "nbconvert_exporter": "python",
   "pygments_lexer": "ipython3",
   "version": "3.8.5"
  }
 },
 "nbformat": 4,
 "nbformat_minor": 5
}
