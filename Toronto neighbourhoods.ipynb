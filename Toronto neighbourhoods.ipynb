{
 "cells": [
  {
   "cell_type": "markdown",
   "id": "better-prize",
   "metadata": {},
   "source": [
    "# Data for the Toronto neighourhoods assignment"
   ]
  },
  {
   "cell_type": "markdown",
   "id": "preceding-maldives",
   "metadata": {},
   "source": [
    "This notebook contains the operations to obtain and manipulate geographical data for Toronto neighourhoods. It is the week three assignment in the Coursera Data Science Capstone project."
   ]
  },
  {
   "cell_type": "markdown",
   "id": "divine-broadcast",
   "metadata": {},
   "source": [
    "## Import '.csv'"
   ]
  },
  {
   "cell_type": "markdown",
   "id": "expensive-diving",
   "metadata": {},
   "source": [
    "Information on the Toronto neighourhoods can be obtained from [https://open.toronto.ca/dataset/neighbourhoods/](https://open.toronto.ca/dataset/neighbourhoods/), which is published by the Toronto city government. This site has been found by examining the [Wikipedia site](https://en.wikipedia.org/wiki/List_of_neighbourhoods_in_Toronto) and provides _open data_ that is more readily accessible than by scraping. The information can be downloaded as a '.csv' file and must first be stored locally before it can be read into a dataframe."
   ]
  },
  {
   "cell_type": "code",
   "execution_count": 38,
   "id": "decimal-style",
   "metadata": {},
   "outputs": [],
   "source": [
    "import pandas as pd\n",
    "\n",
    "path = '~/Documents/Projects/Coursera-Capstone/geodata/Neighbourhoods.csv'\n",
    "\n",
    "toronto_data = pd.read_csv(path)\n"
   ]
  },
  {
   "cell_type": "markdown",
   "id": "based-comedy",
   "metadata": {},
   "source": [
    "## Clean data"
   ]
  },
  {
   "cell_type": "markdown",
   "id": "deluxe-ideal",
   "metadata": {},
   "source": [
    "Data can be cleaned by dropping unwanted columns. The data format of the neighourhood names is edited so as to be more compatible with external data sources."
   ]
  },
  {
   "cell_type": "code",
   "execution_count": 41,
   "id": "agricultural-mills",
   "metadata": {},
   "outputs": [
    {
     "name": "stderr",
     "output_type": "stream",
     "text": [
      "<ipython-input-41-ba21103036f1>:5: SettingWithCopyWarning: \n",
      "A value is trying to be set on a copy of a slice from a DataFrame.\n",
      "Try using .loc[row_indexer,col_indexer] = value instead\n",
      "\n",
      "See the caveats in the documentation: https://pandas.pydata.org/pandas-docs/stable/user_guide/indexing.html#returning-a-view-versus-a-copy\n",
      "  nbhs['AREA_NAME'] = toronto_data['AREA_NAME'].str.split('(').str[0]\n",
      "<ipython-input-41-ba21103036f1>:10: SettingWithCopyWarning: \n",
      "A value is trying to be set on a copy of a slice from a DataFrame\n",
      "\n",
      "See the caveats in the documentation: https://pandas.pydata.org/pandas-docs/stable/user_guide/indexing.html#returning-a-view-versus-a-copy\n",
      "  nbhs.sort_values(by='Area code', inplace=True)\n"
     ]
    },
    {
     "data": {
      "text/html": [
       "<div>\n",
       "<style scoped>\n",
       "    .dataframe tbody tr th:only-of-type {\n",
       "        vertical-align: middle;\n",
       "    }\n",
       "\n",
       "    .dataframe tbody tr th {\n",
       "        vertical-align: top;\n",
       "    }\n",
       "\n",
       "    .dataframe thead th {\n",
       "        text-align: right;\n",
       "    }\n",
       "</style>\n",
       "<table border=\"1\" class=\"dataframe\">\n",
       "  <thead>\n",
       "    <tr style=\"text-align: right;\">\n",
       "      <th></th>\n",
       "      <th>Neighbourhood</th>\n",
       "      <th>Area code</th>\n",
       "      <th>Longitude</th>\n",
       "      <th>Latitude</th>\n",
       "    </tr>\n",
       "  </thead>\n",
       "  <tbody>\n",
       "    <tr>\n",
       "      <th>24</th>\n",
       "      <td>West Humber-Clairville</td>\n",
       "      <td>1</td>\n",
       "      <td>NaN</td>\n",
       "      <td>NaN</td>\n",
       "    </tr>\n",
       "    <tr>\n",
       "      <th>34</th>\n",
       "      <td>Mount Olive-Silverstone-Jamestown</td>\n",
       "      <td>2</td>\n",
       "      <td>NaN</td>\n",
       "      <td>NaN</td>\n",
       "    </tr>\n",
       "    <tr>\n",
       "      <th>124</th>\n",
       "      <td>Thistletown-Beaumond Heights</td>\n",
       "      <td>3</td>\n",
       "      <td>NaN</td>\n",
       "      <td>NaN</td>\n",
       "    </tr>\n",
       "    <tr>\n",
       "      <th>122</th>\n",
       "      <td>Rexdale-Kipling</td>\n",
       "      <td>4</td>\n",
       "      <td>NaN</td>\n",
       "      <td>NaN</td>\n",
       "    </tr>\n",
       "    <tr>\n",
       "      <th>48</th>\n",
       "      <td>Elms-Old Rexdale</td>\n",
       "      <td>5</td>\n",
       "      <td>NaN</td>\n",
       "      <td>NaN</td>\n",
       "    </tr>\n",
       "  </tbody>\n",
       "</table>\n",
       "</div>"
      ],
      "text/plain": [
       "                          Neighbourhood  Area code  Longitude  Latitude\n",
       "24              West Humber-Clairville           1        NaN       NaN\n",
       "34   Mount Olive-Silverstone-Jamestown           2        NaN       NaN\n",
       "124       Thistletown-Beaumond Heights           3        NaN       NaN\n",
       "122                    Rexdale-Kipling           4        NaN       NaN\n",
       "48                    Elms-Old Rexdale           5        NaN       NaN"
      ]
     },
     "execution_count": 41,
     "metadata": {},
     "output_type": "execute_result"
    }
   ],
   "source": [
    "# Select neighourhood names and locations and store in a smaller dataframe\n",
    "nbhs = toronto_data[['AREA_NAME', 'AREA_LONG_CODE', 'LONGITUDE', 'LATITUDE']]\n",
    "\n",
    "# Clean neighourhood names by removing the area codes. \n",
    "nbhs['AREA_NAME'] = toronto_data['AREA_NAME'].str.split('(').str[0]\n",
    "\n",
    "# Rename columns\n",
    "nbhs.columns = ['Neighbourhood', 'Area code', 'Longitude', 'Latitude']\n",
    "\n",
    "nbhs.sort_values(by='Area code', inplace=True)\n",
    "\n",
    "# Inspect first five rows of the dataframe\n",
    "nbhs.head()"
   ]
  },
  {
   "cell_type": "code",
   "execution_count": 42,
   "id": "another-parcel",
   "metadata": {},
   "outputs": [
    {
     "data": {
      "text/html": [
       "<div>\n",
       "<style scoped>\n",
       "    .dataframe tbody tr th:only-of-type {\n",
       "        vertical-align: middle;\n",
       "    }\n",
       "\n",
       "    .dataframe tbody tr th {\n",
       "        vertical-align: top;\n",
       "    }\n",
       "\n",
       "    .dataframe thead th {\n",
       "        text-align: right;\n",
       "    }\n",
       "</style>\n",
       "<table border=\"1\" class=\"dataframe\">\n",
       "  <thead>\n",
       "    <tr style=\"text-align: right;\">\n",
       "      <th></th>\n",
       "      <th>Neighbourhood</th>\n",
       "      <th>Area code</th>\n",
       "      <th>Longitude</th>\n",
       "      <th>Latitude</th>\n",
       "    </tr>\n",
       "  </thead>\n",
       "  <tbody>\n",
       "    <tr>\n",
       "      <th>count</th>\n",
       "      <td>140</td>\n",
       "      <td>140.0000</td>\n",
       "      <td>0.0</td>\n",
       "      <td>0.0</td>\n",
       "    </tr>\n",
       "    <tr>\n",
       "      <th>unique</th>\n",
       "      <td>140</td>\n",
       "      <td>NaN</td>\n",
       "      <td>NaN</td>\n",
       "      <td>NaN</td>\n",
       "    </tr>\n",
       "    <tr>\n",
       "      <th>top</th>\n",
       "      <td>Caledonia-Fairbank</td>\n",
       "      <td>NaN</td>\n",
       "      <td>NaN</td>\n",
       "      <td>NaN</td>\n",
       "    </tr>\n",
       "    <tr>\n",
       "      <th>freq</th>\n",
       "      <td>1</td>\n",
       "      <td>NaN</td>\n",
       "      <td>NaN</td>\n",
       "      <td>NaN</td>\n",
       "    </tr>\n",
       "    <tr>\n",
       "      <th>mean</th>\n",
       "      <td>NaN</td>\n",
       "      <td>70.5000</td>\n",
       "      <td>NaN</td>\n",
       "      <td>NaN</td>\n",
       "    </tr>\n",
       "    <tr>\n",
       "      <th>std</th>\n",
       "      <td>NaN</td>\n",
       "      <td>40.5586</td>\n",
       "      <td>NaN</td>\n",
       "      <td>NaN</td>\n",
       "    </tr>\n",
       "    <tr>\n",
       "      <th>min</th>\n",
       "      <td>NaN</td>\n",
       "      <td>1.0000</td>\n",
       "      <td>NaN</td>\n",
       "      <td>NaN</td>\n",
       "    </tr>\n",
       "    <tr>\n",
       "      <th>25%</th>\n",
       "      <td>NaN</td>\n",
       "      <td>35.7500</td>\n",
       "      <td>NaN</td>\n",
       "      <td>NaN</td>\n",
       "    </tr>\n",
       "    <tr>\n",
       "      <th>50%</th>\n",
       "      <td>NaN</td>\n",
       "      <td>70.5000</td>\n",
       "      <td>NaN</td>\n",
       "      <td>NaN</td>\n",
       "    </tr>\n",
       "    <tr>\n",
       "      <th>75%</th>\n",
       "      <td>NaN</td>\n",
       "      <td>105.2500</td>\n",
       "      <td>NaN</td>\n",
       "      <td>NaN</td>\n",
       "    </tr>\n",
       "    <tr>\n",
       "      <th>max</th>\n",
       "      <td>NaN</td>\n",
       "      <td>140.0000</td>\n",
       "      <td>NaN</td>\n",
       "      <td>NaN</td>\n",
       "    </tr>\n",
       "  </tbody>\n",
       "</table>\n",
       "</div>"
      ],
      "text/plain": [
       "              Neighbourhood  Area code  Longitude  Latitude\n",
       "count                   140   140.0000        0.0       0.0\n",
       "unique                  140        NaN        NaN       NaN\n",
       "top     Caledonia-Fairbank         NaN        NaN       NaN\n",
       "freq                      1        NaN        NaN       NaN\n",
       "mean                    NaN    70.5000        NaN       NaN\n",
       "std                     NaN    40.5586        NaN       NaN\n",
       "min                     NaN     1.0000        NaN       NaN\n",
       "25%                     NaN    35.7500        NaN       NaN\n",
       "50%                     NaN    70.5000        NaN       NaN\n",
       "75%                     NaN   105.2500        NaN       NaN\n",
       "max                     NaN   140.0000        NaN       NaN"
      ]
     },
     "execution_count": 42,
     "metadata": {},
     "output_type": "execute_result"
    }
   ],
   "source": [
    "# Check that the dataframe contains all 140 neighbourhoods\n",
    "nbhs.describe(include='all')"
   ]
  },
  {
   "cell_type": "code",
   "execution_count": null,
   "id": "peripheral-kingdom",
   "metadata": {},
   "outputs": [],
   "source": []
  }
 ],
 "metadata": {
  "kernelspec": {
   "display_name": "Python 3",
   "language": "python",
   "name": "python3"
  },
  "language_info": {
   "codemirror_mode": {
    "name": "ipython",
    "version": 3
   },
   "file_extension": ".py",
   "mimetype": "text/x-python",
   "name": "python",
   "nbconvert_exporter": "python",
   "pygments_lexer": "ipython3",
   "version": "3.8.5"
  }
 },
 "nbformat": 4,
 "nbformat_minor": 5
}
