{
 "cells": [
  {
   "cell_type": "markdown",
   "id": "constant-beast",
   "metadata": {},
   "source": [
    "# Segmenting and Clustering Neighborhoods in Toronto"
   ]
  },
  {
   "cell_type": "markdown",
   "id": "lesbian-pastor",
   "metadata": {},
   "source": [
    "This notebook contains the operations to obtain and manipulate geographical data for Toronto neighourhoods. It is the week three assignment in the Coursera Data Science Capstone project."
   ]
  },
  {
   "cell_type": "code",
   "execution_count": 1,
   "id": "hollow-crest",
   "metadata": {},
   "outputs": [],
   "source": [
    "import pandas as pd\n",
    "import numpy as np\n",
    "\n",
    "import requests\n",
    "from bs4 import BeautifulSoup\n",
    "import html5lib\n",
    "\n",
    "from IPython.display import Image \n",
    "from IPython.core.display import HTML \n",
    "from pandas.io.json import json_normalize\n",
    "\n",
    "import folium "
   ]
  },
  {
   "cell_type": "markdown",
   "id": "united-telephone",
   "metadata": {},
   "source": [
    "## Import data from Wikipedia"
   ]
  },
  {
   "cell_type": "markdown",
   "id": "palestinian-consequence",
   "metadata": {},
   "source": [
    "Per the instructions in the assignment, the neighourhood names and postal codes can be scraped from [Wikipedia](https://en.wikipedia.org/wiki/List_of_postal_codes_of_Canada:_M).\n"
   ]
  },
  {
   "cell_type": "code",
   "execution_count": 2,
   "id": "found-skiing",
   "metadata": {},
   "outputs": [],
   "source": [
    "url = 'https://en.wikipedia.org/wiki/List_of_postal_codes_of_Canada:_M'"
   ]
  },
  {
   "cell_type": "markdown",
   "id": "conceptual-cookie",
   "metadata": {},
   "source": [
    "The table that contains the data is not named so it can't be easily found by string matching. From visual inspection of the wiki-page, however, it looks like there are not too many tables present. It would, therefore not be too costly to read all of them directly into dataframes."
   ]
  },
  {
   "cell_type": "code",
   "execution_count": 3,
   "id": "engaged-nevada",
   "metadata": {},
   "outputs": [
    {
     "data": {
      "text/plain": [
       "3"
      ]
     },
     "execution_count": 3,
     "metadata": {},
     "output_type": "execute_result"
    }
   ],
   "source": [
    "dataframe_list = pd.read_html(url, flavor='bs4')\n",
    "len(dataframe_list)"
   ]
  },
  {
   "cell_type": "markdown",
   "id": "advance-cooperative",
   "metadata": {},
   "source": [
    "The initial asssessment that not too many tables are present on the Wikipedia site is correct. By trial and error (which is feasible since only three frames have to be viewed), '0' is found to be the correct index for the table."
   ]
  },
  {
   "cell_type": "code",
   "execution_count": 4,
   "id": "leading-devon",
   "metadata": {},
   "outputs": [
    {
     "data": {
      "text/html": [
       "<div>\n",
       "<style scoped>\n",
       "    .dataframe tbody tr th:only-of-type {\n",
       "        vertical-align: middle;\n",
       "    }\n",
       "\n",
       "    .dataframe tbody tr th {\n",
       "        vertical-align: top;\n",
       "    }\n",
       "\n",
       "    .dataframe thead th {\n",
       "        text-align: right;\n",
       "    }\n",
       "</style>\n",
       "<table border=\"1\" class=\"dataframe\">\n",
       "  <thead>\n",
       "    <tr style=\"text-align: right;\">\n",
       "      <th></th>\n",
       "      <th>Postal Code</th>\n",
       "      <th>Borough</th>\n",
       "      <th>Neighbourhood</th>\n",
       "    </tr>\n",
       "  </thead>\n",
       "  <tbody>\n",
       "    <tr>\n",
       "      <th>0</th>\n",
       "      <td>M1A</td>\n",
       "      <td>Not assigned</td>\n",
       "      <td>Not assigned</td>\n",
       "    </tr>\n",
       "    <tr>\n",
       "      <th>1</th>\n",
       "      <td>M2A</td>\n",
       "      <td>Not assigned</td>\n",
       "      <td>Not assigned</td>\n",
       "    </tr>\n",
       "    <tr>\n",
       "      <th>2</th>\n",
       "      <td>M3A</td>\n",
       "      <td>North York</td>\n",
       "      <td>Parkwoods</td>\n",
       "    </tr>\n",
       "    <tr>\n",
       "      <th>3</th>\n",
       "      <td>M4A</td>\n",
       "      <td>North York</td>\n",
       "      <td>Victoria Village</td>\n",
       "    </tr>\n",
       "    <tr>\n",
       "      <th>4</th>\n",
       "      <td>M5A</td>\n",
       "      <td>Downtown Toronto</td>\n",
       "      <td>Regent Park, Harbourfront</td>\n",
       "    </tr>\n",
       "    <tr>\n",
       "      <th>...</th>\n",
       "      <td>...</td>\n",
       "      <td>...</td>\n",
       "      <td>...</td>\n",
       "    </tr>\n",
       "    <tr>\n",
       "      <th>175</th>\n",
       "      <td>M5Z</td>\n",
       "      <td>Not assigned</td>\n",
       "      <td>Not assigned</td>\n",
       "    </tr>\n",
       "    <tr>\n",
       "      <th>176</th>\n",
       "      <td>M6Z</td>\n",
       "      <td>Not assigned</td>\n",
       "      <td>Not assigned</td>\n",
       "    </tr>\n",
       "    <tr>\n",
       "      <th>177</th>\n",
       "      <td>M7Z</td>\n",
       "      <td>Not assigned</td>\n",
       "      <td>Not assigned</td>\n",
       "    </tr>\n",
       "    <tr>\n",
       "      <th>178</th>\n",
       "      <td>M8Z</td>\n",
       "      <td>Etobicoke</td>\n",
       "      <td>Mimico NW, The Queensway West, South of Bloor,...</td>\n",
       "    </tr>\n",
       "    <tr>\n",
       "      <th>179</th>\n",
       "      <td>M9Z</td>\n",
       "      <td>Not assigned</td>\n",
       "      <td>Not assigned</td>\n",
       "    </tr>\n",
       "  </tbody>\n",
       "</table>\n",
       "<p>180 rows × 3 columns</p>\n",
       "</div>"
      ],
      "text/plain": [
       "    Postal Code           Borough  \\\n",
       "0           M1A      Not assigned   \n",
       "1           M2A      Not assigned   \n",
       "2           M3A        North York   \n",
       "3           M4A        North York   \n",
       "4           M5A  Downtown Toronto   \n",
       "..          ...               ...   \n",
       "175         M5Z      Not assigned   \n",
       "176         M6Z      Not assigned   \n",
       "177         M7Z      Not assigned   \n",
       "178         M8Z         Etobicoke   \n",
       "179         M9Z      Not assigned   \n",
       "\n",
       "                                         Neighbourhood  \n",
       "0                                         Not assigned  \n",
       "1                                         Not assigned  \n",
       "2                                            Parkwoods  \n",
       "3                                     Victoria Village  \n",
       "4                            Regent Park, Harbourfront  \n",
       "..                                                 ...  \n",
       "175                                       Not assigned  \n",
       "176                                       Not assigned  \n",
       "177                                       Not assigned  \n",
       "178  Mimico NW, The Queensway West, South of Bloor,...  \n",
       "179                                       Not assigned  \n",
       "\n",
       "[180 rows x 3 columns]"
      ]
     },
     "execution_count": 4,
     "metadata": {},
     "output_type": "execute_result"
    }
   ],
   "source": [
    "toronto_nbhs = dataframe_list[0]\n",
    "toronto_nbhs\n"
   ]
  },
  {
   "cell_type": "markdown",
   "id": "fifth-lottery",
   "metadata": {},
   "source": [
    "## Clean the data"
   ]
  },
  {
   "cell_type": "markdown",
   "id": "humanitarian-mounting",
   "metadata": {},
   "source": [
    "First drop all the rows with unassigned boroughs. This can be done by selecting only the rows in which the borough field is not labelled 'Not assigned'."
   ]
  },
  {
   "cell_type": "code",
   "execution_count": 5,
   "id": "asian-picture",
   "metadata": {},
   "outputs": [],
   "source": [
    "# create a  dataframe without unassigned boroughs\n",
    "toronto_nbhs = toronto_nbhs[toronto_nbhs['Borough']!='Not assigned'] \n",
    "toronto_nbhs.reset_index(inplace=True, drop=True)"
   ]
  },
  {
   "cell_type": "markdown",
   "id": "neutral-organizer",
   "metadata": {},
   "source": [
    "Then make sure that all the neighbourhoods that share the same postal code are merged."
   ]
  },
  {
   "cell_type": "code",
   "execution_count": 6,
   "id": "juvenile-thursday",
   "metadata": {},
   "outputs": [
    {
     "data": {
      "text/plain": [
       "count     103\n",
       "unique    103\n",
       "top       M9C\n",
       "freq        1\n",
       "Name: Postal Code, dtype: object"
      ]
     },
     "execution_count": 6,
     "metadata": {},
     "output_type": "execute_result"
    }
   ],
   "source": [
    "# Check how many postal codes have been assigned to more than one neighbourhood\n",
    "toronto_nbhs['Postal Code'].describe(include='all')"
   ]
  },
  {
   "cell_type": "markdown",
   "id": "union-multimedia",
   "metadata": {},
   "source": [
    "There are as many unique postal codes (103) as there are entries (103). Apparently, all the postal codes are allready uniquely assigned to a neighbourhood _entry_.\n",
    "\n",
    "It may be the case that a neigbourhood entry already combines multiple neighbourhoods with the same postal code. This can be visually verified."
   ]
  },
  {
   "cell_type": "code",
   "execution_count": 7,
   "id": "billion-uncertainty",
   "metadata": {},
   "outputs": [
    {
     "data": {
      "text/html": [
       "<div>\n",
       "<style scoped>\n",
       "    .dataframe tbody tr th:only-of-type {\n",
       "        vertical-align: middle;\n",
       "    }\n",
       "\n",
       "    .dataframe tbody tr th {\n",
       "        vertical-align: top;\n",
       "    }\n",
       "\n",
       "    .dataframe thead th {\n",
       "        text-align: right;\n",
       "    }\n",
       "</style>\n",
       "<table border=\"1\" class=\"dataframe\">\n",
       "  <thead>\n",
       "    <tr style=\"text-align: right;\">\n",
       "      <th></th>\n",
       "      <th>Postal Code</th>\n",
       "      <th>Borough</th>\n",
       "      <th>Neighbourhood</th>\n",
       "    </tr>\n",
       "  </thead>\n",
       "  <tbody>\n",
       "    <tr>\n",
       "      <th>0</th>\n",
       "      <td>M3A</td>\n",
       "      <td>North York</td>\n",
       "      <td>Parkwoods</td>\n",
       "    </tr>\n",
       "    <tr>\n",
       "      <th>1</th>\n",
       "      <td>M4A</td>\n",
       "      <td>North York</td>\n",
       "      <td>Victoria Village</td>\n",
       "    </tr>\n",
       "    <tr>\n",
       "      <th>2</th>\n",
       "      <td>M5A</td>\n",
       "      <td>Downtown Toronto</td>\n",
       "      <td>Regent Park, Harbourfront</td>\n",
       "    </tr>\n",
       "    <tr>\n",
       "      <th>3</th>\n",
       "      <td>M6A</td>\n",
       "      <td>North York</td>\n",
       "      <td>Lawrence Manor, Lawrence Heights</td>\n",
       "    </tr>\n",
       "    <tr>\n",
       "      <th>4</th>\n",
       "      <td>M7A</td>\n",
       "      <td>Downtown Toronto</td>\n",
       "      <td>Queen's Park, Ontario Provincial Government</td>\n",
       "    </tr>\n",
       "  </tbody>\n",
       "</table>\n",
       "</div>"
      ],
      "text/plain": [
       "  Postal Code           Borough                                Neighbourhood\n",
       "0         M3A        North York                                    Parkwoods\n",
       "1         M4A        North York                             Victoria Village\n",
       "2         M5A  Downtown Toronto                    Regent Park, Harbourfront\n",
       "3         M6A        North York             Lawrence Manor, Lawrence Heights\n",
       "4         M7A  Downtown Toronto  Queen's Park, Ontario Provincial Government"
      ]
     },
     "execution_count": 7,
     "metadata": {},
     "output_type": "execute_result"
    }
   ],
   "source": [
    "toronto_nbhs.head()"
   ]
  },
  {
   "cell_type": "markdown",
   "id": "dying-honor",
   "metadata": {},
   "source": [
    "Lastly, fix neighbourhood names that are marked 'Not assigned' by assigning them the name of their borough."
   ]
  },
  {
   "cell_type": "code",
   "execution_count": 8,
   "id": "occupational-coach",
   "metadata": {},
   "outputs": [
    {
     "data": {
      "text/plain": [
       "0"
      ]
     },
     "execution_count": 8,
     "metadata": {},
     "output_type": "execute_result"
    }
   ],
   "source": [
    "# Check how many neighbourhood names need fixing.\n",
    "(toronto_nbhs['Neighbourhood']=='Not assigned').sum()"
   ]
  },
  {
   "cell_type": "markdown",
   "id": "transparent-separation",
   "metadata": {},
   "source": [
    "Apparently, none of the neighbourhood name entries need fixing.\n",
    "\n",
    "This concludes the cleaning of the dataframe, as per the assignments instructions."
   ]
  },
  {
   "cell_type": "code",
   "execution_count": 9,
   "id": "mexican-softball",
   "metadata": {},
   "outputs": [
    {
     "data": {
      "text/plain": [
       "(103, 3)"
      ]
     },
     "execution_count": 9,
     "metadata": {},
     "output_type": "execute_result"
    }
   ],
   "source": [
    "toronto_nbhs.shape"
   ]
  },
  {
   "cell_type": "code",
   "execution_count": 10,
   "id": "assigned-argument",
   "metadata": {},
   "outputs": [],
   "source": [
    "# Save the cleaned dataframe as a '.csv'\n",
    "path = '~/Documents/Projects/Coursera-Capstone/Neighbourhoods.csv'\n",
    "\n",
    "toronto_nbhs.to_csv(path)"
   ]
  },
  {
   "cell_type": "code",
   "execution_count": null,
   "id": "isolated-estate",
   "metadata": {},
   "outputs": [],
   "source": []
  }
 ],
 "metadata": {
  "kernelspec": {
   "display_name": "Python 3",
   "language": "python",
   "name": "python3"
  },
  "language_info": {
   "codemirror_mode": {
    "name": "ipython",
    "version": 3
   },
   "file_extension": ".py",
   "mimetype": "text/x-python",
   "name": "python",
   "nbconvert_exporter": "python",
   "pygments_lexer": "ipython3",
   "version": "3.8.5"
  }
 },
 "nbformat": 4,
 "nbformat_minor": 5
}
